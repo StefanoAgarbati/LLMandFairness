{
 "cells": [
  {
   "cell_type": "code",
   "execution_count": 1,
   "id": "ebe86616-5f7d-43b9-844b-3ec0c3121bb9",
   "metadata": {
    "editable": true,
    "slideshow": {
     "slide_type": ""
    },
    "tags": []
   },
   "outputs": [
    {
     "name": "stderr",
     "output_type": "stream",
     "text": [
      "\n",
      "KeyboardInterrupt\n",
      "\n"
     ]
    }
   ],
   "source": [
    "from main.main_llm_and_fairness import MainLLMAndFairness"
   ]
  },
  {
   "cell_type": "code",
   "execution_count": null,
   "id": "87be1e14-7a7d-4a50-9aa8-6a77a5e63e49",
   "metadata": {
    "editable": true,
    "slideshow": {
     "slide_type": ""
    },
    "tags": []
   },
   "outputs": [],
   "source": [
    "MainLLMAndFairness().start_the_system()"
   ]
  },
  {
   "cell_type": "code",
   "execution_count": null,
   "id": "00dd8048-9492-43f0-823a-e85e4c4f8de7",
   "metadata": {},
   "outputs": [],
   "source": []
  }
 ],
 "metadata": {
  "kernelspec": {
   "display_name": "Python 3 (ipykernel)",
   "language": "python",
   "name": "python3"
  },
  "language_info": {
   "codemirror_mode": {
    "name": "ipython",
    "version": 3
   },
   "file_extension": ".py",
   "mimetype": "text/x-python",
   "name": "python",
   "nbconvert_exporter": "python",
   "pygments_lexer": "ipython3",
   "version": "3.11.0"
  }
 },
 "nbformat": 4,
 "nbformat_minor": 5
}
